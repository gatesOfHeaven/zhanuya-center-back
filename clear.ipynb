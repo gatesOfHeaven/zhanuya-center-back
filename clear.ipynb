{
 "cells": [
  {
   "cell_type": "code",
   "execution_count": 2,
   "metadata": {},
   "outputs": [
    {
     "name": "stdout",
     "output_type": "stream",
     "text": [
      "Removing: c:\\Users\\meteo\\OneDrive\\Desktop\\zhanuya-back-end\\__pycache__\n",
      "Removing: c:\\Users\\meteo\\OneDrive\\Desktop\\zhanuya-back-end\\.pytest_cache\n",
      "Removing: c:\\Users\\meteo\\OneDrive\\Desktop\\zhanuya-back-end\\config\\__pycache__\n",
      "Removing: c:\\Users\\meteo\\OneDrive\\Desktop\\zhanuya-back-end\\entities\\building\\__pycache__\n",
      "Removing: c:\\Users\\meteo\\OneDrive\\Desktop\\zhanuya-back-end\\entities\\category\\__pycache__\n",
      "Removing: c:\\Users\\meteo\\OneDrive\\Desktop\\zhanuya-back-end\\entities\\doctor\\__pycache__\n",
      "Removing: c:\\Users\\meteo\\OneDrive\\Desktop\\zhanuya-back-end\\entities\\email_verification\\__pycache__\n",
      "Removing: c:\\Users\\meteo\\OneDrive\\Desktop\\zhanuya-back-end\\entities\\role\\__pycache__\n",
      "Removing: c:\\Users\\meteo\\OneDrive\\Desktop\\zhanuya-back-end\\entities\\room\\__pycache__\n",
      "Removing: c:\\Users\\meteo\\OneDrive\\Desktop\\zhanuya-back-end\\entities\\slot\\__pycache__\n",
      "Removing: c:\\Users\\meteo\\OneDrive\\Desktop\\zhanuya-back-end\\entities\\user\\__pycache__\n",
      "Removing: c:\\Users\\meteo\\OneDrive\\Desktop\\zhanuya-back-end\\entities\\workday\\__pycache__\n",
      "Removing: c:\\Users\\meteo\\OneDrive\\Desktop\\zhanuya-back-end\\entities\\worktime\\__pycache__\n",
      "Removing: c:\\Users\\meteo\\OneDrive\\Desktop\\zhanuya-back-end\\routes\\auth\\__pycache__\n",
      "Removing: c:\\Users\\meteo\\OneDrive\\Desktop\\zhanuya-back-end\\routes\\patient\\__pycache__\n",
      "Removing: c:\\Users\\meteo\\OneDrive\\Desktop\\zhanuya-back-end\\routes\\patient\\auth\\__pycache__\n",
      "Removing: c:\\Users\\meteo\\OneDrive\\Desktop\\zhanuya-back-end\\routes\\patient\\doctors\\__pycache__\n",
      "Removing: c:\\Users\\meteo\\OneDrive\\Desktop\\zhanuya-back-end\\routes\\patient\\resources\\__pycache__\n",
      "Removing: c:\\Users\\meteo\\OneDrive\\Desktop\\zhanuya-back-end\\tests\\routes\\auth\\__pycache__\n",
      "Removing: c:\\Users\\meteo\\OneDrive\\Desktop\\zhanuya-back-end\\utils\\__pycache__\n",
      "Removing: c:\\Users\\meteo\\OneDrive\\Desktop\\zhanuya-back-end\\utils\\bases\\__pycache__\n",
      "Removing: c:\\Users\\meteo\\OneDrive\\Desktop\\zhanuya-back-end\\utils\\facades\\auth\\__pycache__\n",
      "Removing: c:\\Users\\meteo\\OneDrive\\Desktop\\zhanuya-back-end\\utils\\facades\\calc\\__pycache__\n",
      "Removing: c:\\Users\\meteo\\OneDrive\\Desktop\\zhanuya-back-end\\utils\\facades\\hash\\__pycache__\n",
      "Removing: c:\\Users\\meteo\\OneDrive\\Desktop\\zhanuya-back-end\\utils\\facades\\mail\\__pycache__\n",
      "Removing: c:\\Users\\meteo\\OneDrive\\Desktop\\zhanuya-back-end\\utils\\facades\\typo\\__pycache__\n",
      "Removing: c:\\Users\\meteo\\OneDrive\\Desktop\\zhanuya-back-end\\utils\\facades\\week\\__pycache__\n"
     ]
    }
   ],
   "source": [
    "import os\n",
    "import shutil\n",
    "\n",
    "\n",
    "for dirpath, dirnames, filenames in os.walk(os.path.abspath('.')):\n",
    "    if '__pycache__' in dirnames:\n",
    "        pycache_path = os.path.join(dirpath, '__pycache__')\n",
    "        print(f'Removing: {pycache_path}')\n",
    "        shutil.rmtree(pycache_path, ignore_errors=True)\n",
    "\n",
    "    if '.pytest_cache' in dirnames:\n",
    "        pytest_cache_path = os.path.join(dirpath, '.pytest_cache')\n",
    "        print(f'Removing: {pytest_cache_path}')\n",
    "        shutil.rmtree(pytest_cache_path, ignore_errors=True)"
   ]
  }
 ],
 "metadata": {
  "kernelspec": {
   "display_name": "Python 3",
   "language": "python",
   "name": "python3"
  },
  "language_info": {
   "codemirror_mode": {
    "name": "ipython",
    "version": 3
   },
   "file_extension": ".py",
   "mimetype": "text/x-python",
   "name": "python",
   "nbconvert_exporter": "python",
   "pygments_lexer": "ipython3",
   "version": "3.12.4"
  }
 },
 "nbformat": 4,
 "nbformat_minor": 2
}
